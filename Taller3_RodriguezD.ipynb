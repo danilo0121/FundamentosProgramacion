{
 "cells": [
  {
   "cell_type": "markdown",
   "id": "46cd297a",
   "metadata": {},
   "source": [
    "Taller 2.2 Curso: Fundamentos de Programación\n",
    "\n",
    "* Docente: Daniel Escobar\n",
    "* Estudiante: Danilo Rodriguez Arango \n",
    "* Tema: Concurrencia y Manipulación de Archivos"
   ]
  },
  {
   "cell_type": "markdown",
   "id": "e5d60aae",
   "metadata": {},
   "source": [
    "1. Multiprocessing"
   ]
  },
  {
   "cell_type": "code",
   "execution_count": 1,
   "id": "d5d84c00",
   "metadata": {},
   "outputs": [
    {
     "name": "stdout",
     "output_type": "stream",
     "text": [
      "Downloaded 5 files in 0.9916422367095947 seconds\n"
     ]
    }
   ],
   "source": [
    "%run \"./download_files.py\""
   ]
  },
  {
   "cell_type": "markdown",
   "id": "5ae34df8",
   "metadata": {},
   "source": [
    "2. Threading"
   ]
  },
  {
   "cell_type": "code",
   "execution_count": 2,
   "id": "2734c30d",
   "metadata": {},
   "outputs": [
    {
     "name": "stdout",
     "output_type": "stream",
     "text": [
      "Read 2350 bytes from https://raw.githubusercontent.com/mwaskom/seaborn-data/master/flights.csv\n",
      "Read 4601 bytes from https://raw.githubusercontent.com/plotly/datasets/master/iris.csv\n",
      "Read 7943 bytes from https://raw.githubusercontent.com/plotly/datasets/master/tips.csv\n",
      "Read 3393 bytes from https://raw.githubusercontent.com/cs109/2014_data/master/countries.csv\n",
      "Read 57018 bytes from https://raw.githubusercontent.com/mwaskom/seaborn-data/master/titanic.csv\n",
      "Downloaded 5 files in 0.0705878734588623 seconds\n"
     ]
    }
   ],
   "source": [
    "import concurrent.futures\n",
    "import requests\n",
    "import threading\n",
    "import time\n",
    "\n",
    "csv_urls = [\n",
    "    \"https://raw.githubusercontent.com/cs109/2014_data/master/countries.csv\",\n",
    "    \"https://raw.githubusercontent.com/plotly/datasets/master/iris.csv\",\n",
    "    \"https://raw.githubusercontent.com/plotly/datasets/master/tips.csv\",\n",
    "    \"https://raw.githubusercontent.com/mwaskom/seaborn-data/master/titanic.csv\",\n",
    "    \"https://raw.githubusercontent.com/mwaskom/seaborn-data/master/flights.csv\",\n",
    "]\n",
    "\n",
    "thread_local = threading.local()\n",
    "\n",
    "def get_session():\n",
    "    if not hasattr(thread_local, \"session\"):\n",
    "        thread_local.session = requests.Session()\n",
    "    return thread_local.session\n",
    "\n",
    "def download_site(url):\n",
    "    session = get_session()\n",
    "    with session.get(url) as response:\n",
    "        print(f\"Read {len(response.content)} bytes from {url}\")\n",
    "\n",
    "def download_all_sites(sites):\n",
    "    with concurrent.futures.ThreadPoolExecutor(max_workers=5) as executor:\n",
    "        executor.map(download_site, sites)\n",
    "\n",
    "def main():\n",
    "    start_time = time.time()\n",
    "    download_all_sites(csv_urls)\n",
    "    duration = time.time() - start_time\n",
    "    print(f\"Downloaded {len(csv_urls)} files in {duration} seconds\")\n",
    "\n",
    "if __name__ == \"__main__\":\n",
    "    main()\n"
   ]
  },
  {
   "cell_type": "markdown",
   "id": "3c897741",
   "metadata": {},
   "source": [
    "3. Synchronous"
   ]
  },
  {
   "cell_type": "code",
   "execution_count": 3,
   "id": "2d57e921",
   "metadata": {},
   "outputs": [
    {
     "name": "stdout",
     "output_type": "stream",
     "text": [
      "Read 57018 bytes from https://raw.githubusercontent.com/mwaskom/seaborn-data/master/titanic.csv\n",
      "Read 3393 bytes from https://raw.githubusercontent.com/cs109/2014_data/master/countries.csv\n",
      "Read 2350 bytes from https://raw.githubusercontent.com/mwaskom/seaborn-data/master/flights.csv\n",
      "Read 7943 bytes from https://raw.githubusercontent.com/plotly/datasets/master/tips.csv\n",
      "Read 4601 bytes from https://raw.githubusercontent.com/plotly/datasets/master/iris.csv\n",
      "Downloaded 5 files in 0.05017542839050293 seconds\n"
     ]
    }
   ],
   "source": [
    "#pip install nest_asyncio\n",
    "\n",
    "import asyncio\n",
    "import aiohttp\n",
    "import time\n",
    "import nest_asyncio\n",
    "\n",
    "# Aplicar nest_asyncio\n",
    "nest_asyncio.apply()\n",
    "\n",
    "csv_urls = [\n",
    "    \"https://raw.githubusercontent.com/cs109/2014_data/master/countries.csv\",\n",
    "    \"https://raw.githubusercontent.com/plotly/datasets/master/iris.csv\",\n",
    "    \"https://raw.githubusercontent.com/plotly/datasets/master/tips.csv\",\n",
    "    \"https://raw.githubusercontent.com/mwaskom/seaborn-data/master/titanic.csv\",\n",
    "    \"https://raw.githubusercontent.com/mwaskom/seaborn-data/master/flights.csv\",\n",
    "]\n",
    "\n",
    "async def download_site(url, session):\n",
    "    async with session.get(url) as response:\n",
    "        content = await response.read()\n",
    "        print(f\"Read {len(content)} bytes from {url}\")\n",
    "\n",
    "async def download_all_sites(sites):\n",
    "    async with aiohttp.ClientSession() as session:\n",
    "        tasks = [download_site(url, session) for url in sites]\n",
    "        await asyncio.gather(*tasks)\n",
    "\n",
    "def main():\n",
    "    start_time = time.time()\n",
    "    \n",
    "    # Usamos asyncio.run() con nest_asyncio para evitar el error de bucle ya en ejecución\n",
    "    asyncio.run(download_all_sites(csv_urls))\n",
    "    \n",
    "    duration = time.time() - start_time\n",
    "    print(f\"Downloaded {len(csv_urls)} files in {duration} seconds\")\n",
    "\n",
    "if __name__ == \"__main__\":\n",
    "    main()\n"
   ]
  }
 ],
 "metadata": {
  "kernelspec": {
   "display_name": "udea",
   "language": "python",
   "name": "python3"
  },
  "language_info": {
   "codemirror_mode": {
    "name": "ipython",
    "version": 3
   },
   "file_extension": ".py",
   "mimetype": "text/x-python",
   "name": "python",
   "nbconvert_exporter": "python",
   "pygments_lexer": "ipython3",
   "version": "3.11.13"
  }
 },
 "nbformat": 4,
 "nbformat_minor": 5
}
